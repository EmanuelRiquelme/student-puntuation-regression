{
 "cells": [
  {
   "cell_type": "code",
   "execution_count": null,
   "id": "1ec0b601-5e5d-4f7b-8cac-f60daa2c5151",
   "metadata": {},
   "outputs": [],
   "source": [
    "#dataset\n",
    "#https://www.kaggle.com/datasets/nikhil7280/student-performance-multiple-linear-regression\n",
    "!pip3 install -r -q requirements.txt"
   ]
  },
  {
   "cell_type": "code",
   "execution_count": null,
   "id": "1aa2a8d2-8c50-424b-879c-310051e485e7",
   "metadata": {},
   "outputs": [],
   "source": []
  },
  {
   "cell_type": "code",
   "execution_count": null,
   "id": "207e74bb-9f9b-46e0-8da0-0e06d1d6aff1",
   "metadata": {},
   "outputs": [],
   "source": [
    "import pandas as pd\n",
    "import numpy as np"
   ]
  },
  {
   "cell_type": "code",
   "execution_count": null,
   "id": "6adb3cde-cc0a-4a28-bca9-3d99f92304d4",
   "metadata": {},
   "outputs": [],
   "source": [
    "data = pd.read_csv('Student_Performance.csv')\n",
    "data.head()"
   ]
  },
  {
   "cell_type": "code",
   "execution_count": null,
   "id": "65ff96ac-8d36-4104-bff8-c7430f404611",
   "metadata": {},
   "outputs": [],
   "source": [
    "#Dataframe cleaning\n",
    "numerical_values = {\n",
    "    'Yes':1,\n",
    "    'No':0\n",
    "}\n",
    "data['Extracurricular Activities'] = data['Extracurricular Activities'].replace(numerical_values)\n",
    "data['Sample Question Papers Practiced'] = data['Sample Question Papers Practiced']/10\n",
    "data['Hours Studied'] = data['Hours Studied']/10\n",
    "data['Sleep Hours'] = data['Sleep Hours']/10\n",
    "data['Previous Scores'] = data['Previous Scores']/100\n",
    "data['Performance Index'] = data['Performance Index']/100"
   ]
  },
  {
   "cell_type": "code",
   "execution_count": null,
   "id": "5ffb31ad-b97d-4beb-affa-95672c468271",
   "metadata": {},
   "outputs": [],
   "source": [
    "def sampling(data = data,percentiles = [25, 50, 75],split_size = np.array([80,20])/100):\n",
    "    percentiles_performance_index = np.percentile(data['Performance Index'], percentiles)\n",
    "\n",
    "    high_performance_cond = data['Performance Index'] >= percentiles_performance_index[-1]\n",
    "    average_performance_cond = (data['Performance Index'] > percentiles_performance_index[0]) & (data['Performance Index'] < percentiles_performance_index[-1])\n",
    "    low_performance_cond = data['Performance Index'] <= percentiles_performance_index[0]\n",
    "\n",
    "    high_performance = np.where(high_performance_cond)[0]\n",
    "    average_performance = np.where(average_performance_cond)[0]\n",
    "    low_performance = np.where(low_performance_cond)[0]\n",
    "\n",
    "    high_performance_size,average_performance_size,low_performance_size = high_performance.shape[0],average_performance.shape[0],low_performance.shape[0]\n",
    "    \n",
    "    #split_size\n",
    "    high_performance_train_size = int(high_performance_size*split_size[0])\n",
    "    high_performance_test_size = high_performance_size - high_performance_train_size\n",
    "    \n",
    "    average_performance_train_size = int(average_performance_size*split_size[0])\n",
    "    average_performance_test_size = average_performance_size - average_performance_train_size\n",
    "    \n",
    "    low_performance_train_size = int(low_performance_size*split_size[0])\n",
    "    low_performance_test_size = low_performance_size - low_performance_train_size\n",
    "\n",
    "    low_performance_train_index = np.random.choice(low_performance,size = low_performance_train_size,replace = False)\n",
    "    low_performance_test_index = np.setdiff1d(low_performance,low_performance_train_index)\n",
    "    \n",
    "    high_performance_train_index = np.random.choice(high_performance,size = high_performance_train_size,replace = False)\n",
    "    high_performance_test_index = np.setdiff1d(high_performance,high_performance_train_index)\n",
    "    \n",
    "    average_performance_train_index = np.random.choice(average_performance,size = average_performance_train_size,replace = False)\n",
    "    average_performance_test_index = np.setdiff1d(average_performance,average_performance_train_index)\n",
    "\n",
    "    train_indeces= np.hstack((low_performance_train_index,average_performance_train_index,high_performance_train_index))\n",
    "    train_indeces = np.random.permutation(train_indeces)\n",
    "    test_indeces= np.hstack((low_performance_test_index,average_performance_test_index,high_performance_test_index))\n",
    "    test_indeces = np.random.permutation(test_indeces)\n",
    "\n",
    "    train_data = data.iloc[train_indeces]\n",
    "    train_data = data.iloc[train_indeces].reset_index(drop=True)\n",
    "    test_data = data.iloc[test_indeces].reset_index(drop=True)\n",
    "    \n",
    "    train_data.to_csv('training_data.csv', index=False)\n",
    "    test_data.to_csv('test_data.csv', index=False)"
   ]
  },
  {
   "cell_type": "code",
   "execution_count": null,
   "id": "0a4d14c1-1b13-4bc6-ad40-735084841562",
   "metadata": {},
   "outputs": [],
   "source": [
    "sampling()"
   ]
  },
  {
   "cell_type": "code",
   "execution_count": null,
   "id": "7ef6c1f1-ad4f-4247-8102-0e5dd9b04c74",
   "metadata": {},
   "outputs": [],
   "source": []
  }
 ],
 "metadata": {
  "kernelspec": {
   "display_name": "Python 3 (ipykernel)",
   "language": "python",
   "name": "python3"
  },
  "language_info": {
   "codemirror_mode": {
    "name": "ipython",
    "version": 3
   },
   "file_extension": ".py",
   "mimetype": "text/x-python",
   "name": "python",
   "nbconvert_exporter": "python",
   "pygments_lexer": "ipython3",
   "version": "3.11.5"
  }
 },
 "nbformat": 4,
 "nbformat_minor": 5
}
