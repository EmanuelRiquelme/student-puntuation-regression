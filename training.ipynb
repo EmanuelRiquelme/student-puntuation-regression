{
 "cells": [
  {
   "cell_type": "code",
   "execution_count": null,
   "id": "a449142c-ad0a-4823-888b-0d258fa4dd37",
   "metadata": {},
   "outputs": [],
   "source": [
    "!pip install xgboost\n",
    "!pip install -U scikit-learn"
   ]
  },
  {
   "cell_type": "code",
   "execution_count": null,
   "id": "c94862b3-8289-4e48-9fff-b65c7e6348f7",
   "metadata": {},
   "outputs": [],
   "source": [
    "import pandas as pd\n",
    "import numpy as np\n",
    "from xgboost import XGBRegressor\n",
    "from sklearn.metrics import mean_absolute_error"
   ]
  },
  {
   "cell_type": "code",
   "execution_count": null,
   "id": "c6eb13c8-5e04-4741-88cc-6286878e4eee",
   "metadata": {},
   "outputs": [],
   "source": [
    "train_data = pd.read_csv('training_data.csv')\n",
    "y_train = train_data['Performance Index']\n",
    "x_train = train_data.drop('Performance Index', axis=1)\n",
    "x_train = x_train.to_numpy()"
   ]
  },
  {
   "cell_type": "code",
   "execution_count": null,
   "id": "63cd6d89-71ec-4316-b11c-b3542ec3ae90",
   "metadata": {
    "scrolled": true
   },
   "outputs": [],
   "source": [
    "model = XGBRegressor()\n",
    "model.fit(x_train, y_train)"
   ]
  },
  {
   "cell_type": "code",
   "execution_count": null,
   "id": "4cd7dd9f-7ee8-4d6a-8a24-8be17c757d50",
   "metadata": {},
   "outputs": [],
   "source": [
    "def accuracy(test_data_file = 'test_data.csv'):\n",
    "    test_data = pd.read_csv(test_data_file)\n",
    "    y_test = test_data['Performance Index']\n",
    "    x_test = test_data.drop('Performance Index', axis=1)\n",
    "    x_test = x_test.to_numpy()\n",
    "    y_pred = model.predict(x_test)\n",
    "    y_test, y_pred = y_test*100, y_pred*100\n",
    "    print(f'MAE:{mean_absolute_error(y_test, y_pred)} performance index points')"
   ]
  },
  {
   "cell_type": "code",
   "execution_count": null,
   "id": "427d87c4-ad83-4a3c-9ead-62fa93766689",
   "metadata": {},
   "outputs": [],
   "source": [
    "def stratified_accuracy(test_data_file = 'test_data.csv',\n",
    "                        percentiles_performance_index = [0.4 ,0.55,0.71]):\n",
    "    test_data = pd.read_csv(test_data_file)\n",
    "    y_test = test_data['Performance Index']\n",
    "    x_test = test_data.drop('Performance Index', axis=1)\n",
    "    y_test =  y_test*100\n",
    "    percentiles_performance_index = np.array(percentiles_performance_index)*100\n",
    "    x_test = x_test.to_numpy()\n",
    "    \n",
    "    high_performance_cond = y_test >= percentiles_performance_index[-1]\n",
    "    average_performance_cond = (y_test > percentiles_performance_index[0]) & (y_test < percentiles_performance_index[-1])\n",
    "    low_performance_cond = y_test <= percentiles_performance_index[0]\n",
    "\n",
    "    high_performance = np.where(high_performance_cond)[0]\n",
    "    average_performance = np.where(average_performance_cond)[0]\n",
    "    low_performance = np.where(low_performance_cond)[0]\n",
    "    \n",
    "    high_performance_y =  y_test[high_performance]\n",
    "    average_performance_y = y_test[average_performance]\n",
    "    low_performance_y = y_test[low_performance]\n",
    "\n",
    "    high_performance_x =  x_test[high_performance]\n",
    "    average_performance_x = x_test[average_performance]\n",
    "    low_performance_x = x_test[low_performance]\n",
    "    \n",
    "    high_performance_pred =  model.predict(x_test[high_performance])\n",
    "    average_performance_pred = model.predict(x_test[average_performance])\n",
    "    low_performance_pred = model.predict(x_test[low_performance])\n",
    "    \n",
    "    high_performance_pred = high_performance_pred*100\n",
    "    average_performance_pred = average_performance_pred*100\n",
    "    low_performance_pred = low_performance_pred*100\n",
    "    \n",
    "    mae_high_perf = mean_absolute_error(high_performance_y, high_performance_pred)\n",
    "    mae_average_perf = mean_absolute_error(average_performance_y, average_performance_pred)\n",
    "    mae_low_perf = mean_absolute_error(low_performance_y, low_performance_pred)\n",
    "    return f\"MAE high performance students:{mae_high_perf}\\nMAE average performance students:{mae_average_perf}\\nMAE low performance students:{mae_low_perf}\"\n",
    "    "
   ]
  },
  {
   "cell_type": "code",
   "execution_count": null,
   "id": "02ab0ad1-df4b-4f69-ab81-e073fdb4e8b7",
   "metadata": {},
   "outputs": [],
   "source": [
    "accuracy()\n",
    "print(stratified_accuracy())"
   ]
  },
  {
   "cell_type": "code",
   "execution_count": null,
   "id": "a278052b-a4af-40ba-8699-a5a7c41c717d",
   "metadata": {},
   "outputs": [],
   "source": []
  }
 ],
 "metadata": {
  "kernelspec": {
   "display_name": "Python 3 (ipykernel)",
   "language": "python",
   "name": "python3"
  },
  "language_info": {
   "codemirror_mode": {
    "name": "ipython",
    "version": 3
   },
   "file_extension": ".py",
   "mimetype": "text/x-python",
   "name": "python",
   "nbconvert_exporter": "python",
   "pygments_lexer": "ipython3",
   "version": "3.11.5"
  }
 },
 "nbformat": 4,
 "nbformat_minor": 5
}
